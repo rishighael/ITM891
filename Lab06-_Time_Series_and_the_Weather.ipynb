{
 "cells": [
  {
   "cell_type": "markdown",
   "metadata": {},
   "source": [
    "# Lab06: Time Series in Pandas"
   ]
  },
  {
   "cell_type": "markdown",
   "metadata": {},
   "source": [
    "## Temperature Time Series\n",
    "\n",
    "I would like you to download the LAN-WX.csv file into your working directory for this notebook and use it for today's exercise.  Provided the page is up (it wasn't earlier), you can find documentation about each of the columns in the CSV file here: \n",
    "https://www1.ncdc.noaa.gov/pub/data/cdo/documentation/GHCND_documentation.pdf\n",
    "\n",
    "For the purposes of our exercise, we are most interested in these columns:\n",
    "* DATE\n",
    "* TMIN the minimum daily temperature\n",
    "* TMAX the maximum daily temperature\n",
    "\n",
    "I would like you to do the following:\n",
    "* As with today's lecture, convert the DATE column into a temporal-based index for the data frame.\n",
    "* Using this and the methods from today, I'd like you to do the following:\n",
    "    1. Display a table that shows the maximum daily temperatures for each month in the year 2013.\n",
    "    2. Find the maximum temperature in Lansing for the day of your birth and each birthday thereafter and plot it as a violin plot and histogram using Seaborn.\n",
    "    3. Find the decade maximum high and low temperature from 1950.  Plot both the maximum and minimum values as a single line plot.\n",
    "    4. This class started on Jaunary 11, 2020 and runs for 16 weeks. It meets on Mondays and Wednesdays. Use boxplots to plot the historical distribution from 1960 onward of high temperatures for each date we meet this semester.  In other words, plot the range of maximum temperatures for each (month,day) value in the 2020 course calendar across all years from 1960 onward.\n",
    "    5. The number of 90&deg;F days per year are often used to describe climate change.  Plot the average number of 90&deg;F days as a rolling average over 5 years across the entire data set. \n",
    "    \n",
    "**Create markdown cells to annotate your work using the directions above to create cells with level-2 headings** and the descriptions above in them.  (You do remember your Markdown?)\n",
    "\n",
    "Note:  You will likely have to use Google and the Pandas documnetation quite a bit to answer the questions above.  This is normal!  "
   ]
  },
  {
   "cell_type": "code",
   "execution_count": 2,
   "metadata": {},
   "outputs": [
    {
     "name": "stdout",
     "output_type": "stream",
     "text": [
      "Defaulting to user installation because normal site-packages is not writeable\n",
      "Requirement already satisfied: pandas in /Users/rishighael/Library/Python/3.9/lib/python/site-packages (2.2.0)\n",
      "Requirement already satisfied: numpy<2,>=1.22.4 in /Users/rishighael/Library/Python/3.9/lib/python/site-packages (from pandas) (1.26.3)\n",
      "Requirement already satisfied: tzdata>=2022.7 in /Users/rishighael/Library/Python/3.9/lib/python/site-packages (from pandas) (2023.4)\n",
      "Requirement already satisfied: python-dateutil>=2.8.2 in /Users/rishighael/Library/Python/3.9/lib/python/site-packages (from pandas) (2.8.2)\n",
      "Requirement already satisfied: pytz>=2020.1 in /Users/rishighael/Library/Python/3.9/lib/python/site-packages (from pandas) (2023.3.post1)\n",
      "Requirement already satisfied: six>=1.5 in /Library/Developer/CommandLineTools/Library/Frameworks/Python3.framework/Versions/3.9/lib/python3.9/site-packages (from python-dateutil>=2.8.2->pandas) (1.15.0)\n",
      "\u001b[33mWARNING: You are using pip version 21.2.4; however, version 23.3.2 is available.\n",
      "You should consider upgrading via the '/Library/Developer/CommandLineTools/usr/bin/python3 -m pip install --upgrade pip' command.\u001b[0m\n",
      "Note: you may need to restart the kernel to use updated packages.\n",
      "Defaulting to user installation because normal site-packages is not writeable\n",
      "Requirement already satisfied: seaborn in /Users/rishighael/Library/Python/3.9/lib/python/site-packages (0.13.1)\n",
      "Requirement already satisfied: matplotlib!=3.6.1,>=3.4 in /Users/rishighael/Library/Python/3.9/lib/python/site-packages (from seaborn) (3.8.2)\n",
      "Requirement already satisfied: pandas>=1.2 in /Users/rishighael/Library/Python/3.9/lib/python/site-packages (from seaborn) (2.2.0)\n",
      "Requirement already satisfied: numpy!=1.24.0,>=1.20 in /Users/rishighael/Library/Python/3.9/lib/python/site-packages (from seaborn) (1.26.3)\n",
      "Requirement already satisfied: contourpy>=1.0.1 in /Users/rishighael/Library/Python/3.9/lib/python/site-packages (from matplotlib!=3.6.1,>=3.4->seaborn) (1.2.0)\n",
      "Requirement already satisfied: fonttools>=4.22.0 in /Users/rishighael/Library/Python/3.9/lib/python/site-packages (from matplotlib!=3.6.1,>=3.4->seaborn) (4.47.2)\n",
      "Requirement already satisfied: python-dateutil>=2.7 in /Users/rishighael/Library/Python/3.9/lib/python/site-packages (from matplotlib!=3.6.1,>=3.4->seaborn) (2.8.2)\n",
      "Requirement already satisfied: pyparsing>=2.3.1 in /Users/rishighael/Library/Python/3.9/lib/python/site-packages (from matplotlib!=3.6.1,>=3.4->seaborn) (3.1.1)\n",
      "Requirement already satisfied: importlib-resources>=3.2.0 in /Users/rishighael/Library/Python/3.9/lib/python/site-packages (from matplotlib!=3.6.1,>=3.4->seaborn) (6.1.1)\n",
      "Requirement already satisfied: kiwisolver>=1.3.1 in /Users/rishighael/Library/Python/3.9/lib/python/site-packages (from matplotlib!=3.6.1,>=3.4->seaborn) (1.4.5)\n",
      "Requirement already satisfied: cycler>=0.10 in /Users/rishighael/Library/Python/3.9/lib/python/site-packages (from matplotlib!=3.6.1,>=3.4->seaborn) (0.12.1)\n",
      "Requirement already satisfied: packaging>=20.0 in /Users/rishighael/Library/Python/3.9/lib/python/site-packages (from matplotlib!=3.6.1,>=3.4->seaborn) (23.2)\n",
      "Requirement already satisfied: pillow>=8 in /Users/rishighael/Library/Python/3.9/lib/python/site-packages (from matplotlib!=3.6.1,>=3.4->seaborn) (10.2.0)\n",
      "Requirement already satisfied: zipp>=3.1.0 in /Users/rishighael/Library/Python/3.9/lib/python/site-packages (from importlib-resources>=3.2.0->matplotlib!=3.6.1,>=3.4->seaborn) (3.17.0)\n",
      "Requirement already satisfied: pytz>=2020.1 in /Users/rishighael/Library/Python/3.9/lib/python/site-packages (from pandas>=1.2->seaborn) (2023.3.post1)\n",
      "Requirement already satisfied: tzdata>=2022.7 in /Users/rishighael/Library/Python/3.9/lib/python/site-packages (from pandas>=1.2->seaborn) (2023.4)\n",
      "Requirement already satisfied: six>=1.5 in /Library/Developer/CommandLineTools/Library/Frameworks/Python3.framework/Versions/3.9/lib/python3.9/site-packages (from python-dateutil>=2.7->matplotlib!=3.6.1,>=3.4->seaborn) (1.15.0)\n",
      "\u001b[33mWARNING: You are using pip version 21.2.4; however, version 23.3.2 is available.\n",
      "You should consider upgrading via the '/Library/Developer/CommandLineTools/usr/bin/python3 -m pip install --upgrade pip' command.\u001b[0m\n",
      "Note: you may need to restart the kernel to use updated packages.\n",
      "Defaulting to user installation because normal site-packages is not writeable\n",
      "Requirement already satisfied: matplotlib in /Users/rishighael/Library/Python/3.9/lib/python/site-packages (3.8.2)\n",
      "Requirement already satisfied: pillow>=8 in /Users/rishighael/Library/Python/3.9/lib/python/site-packages (from matplotlib) (10.2.0)\n",
      "Requirement already satisfied: cycler>=0.10 in /Users/rishighael/Library/Python/3.9/lib/python/site-packages (from matplotlib) (0.12.1)\n",
      "Requirement already satisfied: pyparsing>=2.3.1 in /Users/rishighael/Library/Python/3.9/lib/python/site-packages (from matplotlib) (3.1.1)\n",
      "Requirement already satisfied: packaging>=20.0 in /Users/rishighael/Library/Python/3.9/lib/python/site-packages (from matplotlib) (23.2)\n",
      "Requirement already satisfied: contourpy>=1.0.1 in /Users/rishighael/Library/Python/3.9/lib/python/site-packages (from matplotlib) (1.2.0)\n",
      "Requirement already satisfied: importlib-resources>=3.2.0 in /Users/rishighael/Library/Python/3.9/lib/python/site-packages (from matplotlib) (6.1.1)\n",
      "Requirement already satisfied: python-dateutil>=2.7 in /Users/rishighael/Library/Python/3.9/lib/python/site-packages (from matplotlib) (2.8.2)\n",
      "Requirement already satisfied: numpy<2,>=1.21 in /Users/rishighael/Library/Python/3.9/lib/python/site-packages (from matplotlib) (1.26.3)\n",
      "Requirement already satisfied: kiwisolver>=1.3.1 in /Users/rishighael/Library/Python/3.9/lib/python/site-packages (from matplotlib) (1.4.5)\n",
      "Requirement already satisfied: fonttools>=4.22.0 in /Users/rishighael/Library/Python/3.9/lib/python/site-packages (from matplotlib) (4.47.2)\n",
      "Requirement already satisfied: zipp>=3.1.0 in /Users/rishighael/Library/Python/3.9/lib/python/site-packages (from importlib-resources>=3.2.0->matplotlib) (3.17.0)\n",
      "Requirement already satisfied: six>=1.5 in /Library/Developer/CommandLineTools/Library/Frameworks/Python3.framework/Versions/3.9/lib/python3.9/site-packages (from python-dateutil>=2.7->matplotlib) (1.15.0)\n",
      "\u001b[33mWARNING: You are using pip version 21.2.4; however, version 23.3.2 is available.\n",
      "You should consider upgrading via the '/Library/Developer/CommandLineTools/usr/bin/python3 -m pip install --upgrade pip' command.\u001b[0m\n",
      "Note: you may need to restart the kernel to use updated packages.\n"
     ]
    },
    {
     "name": "stderr",
     "output_type": "stream",
     "text": [
      "/var/folders/03/17z2jhrx7fl0s78phbvjy6gm0000gn/T/ipykernel_17734/1171445412.py:4: DeprecationWarning: \n",
      "Pyarrow will become a required dependency of pandas in the next major release of pandas (pandas 3.0),\n",
      "(to allow more performant data types, such as the Arrow string type, and better interoperability with other libraries)\n",
      "but was not found to be installed on your system.\n",
      "If this would cause problems for you,\n",
      "please provide us feedback at https://github.com/pandas-dev/pandas/issues/54466\n",
      "        \n",
      "  import pandas as pd\n"
     ]
    }
   ],
   "source": [
    "%pip install pandas\n",
    "%pip install seaborn\n",
    "%pip install matplotlib\n",
    "import pandas as pd\n",
    "import datetime\n",
    "import dateutil\n",
    "import seaborn as sns\n",
    "import matplotlib.pyplot as plt"
   ]
  },
  {
   "cell_type": "markdown",
   "metadata": {},
   "source": [
    "## Load in the weather data\n",
    "\n",
    "Load in the `LAN-WX.csv` file into a data frame, keeping just the DATE, TMIN, and TMAX columns.\n",
    "\n",
    "Make `DATE` the index; convert it to daily periods.  You may drop the additional DATE column when you set it as the index.  (See set_index for more information)"
   ]
  },
  {
   "cell_type": "code",
   "execution_count": 3,
   "metadata": {},
   "outputs": [
    {
     "data": {
      "text/html": [
       "<div>\n",
       "<style scoped>\n",
       "    .dataframe tbody tr th:only-of-type {\n",
       "        vertical-align: middle;\n",
       "    }\n",
       "\n",
       "    .dataframe tbody tr th {\n",
       "        vertical-align: top;\n",
       "    }\n",
       "\n",
       "    .dataframe thead th {\n",
       "        text-align: right;\n",
       "    }\n",
       "</style>\n",
       "<table border=\"1\" class=\"dataframe\">\n",
       "  <thead>\n",
       "    <tr style=\"text-align: right;\">\n",
       "      <th></th>\n",
       "      <th>TMIN</th>\n",
       "      <th>TMAX</th>\n",
       "    </tr>\n",
       "    <tr>\n",
       "      <th>DATE</th>\n",
       "      <th></th>\n",
       "      <th></th>\n",
       "    </tr>\n",
       "  </thead>\n",
       "  <tbody>\n",
       "    <tr>\n",
       "      <th>1950-01-01</th>\n",
       "      <td>38.0</td>\n",
       "      <td>45.0</td>\n",
       "    </tr>\n",
       "    <tr>\n",
       "      <th>1950-01-02</th>\n",
       "      <td>44.0</td>\n",
       "      <td>49.0</td>\n",
       "    </tr>\n",
       "    <tr>\n",
       "      <th>1950-01-03</th>\n",
       "      <td>49.0</td>\n",
       "      <td>58.0</td>\n",
       "    </tr>\n",
       "    <tr>\n",
       "      <th>1950-01-04</th>\n",
       "      <td>19.0</td>\n",
       "      <td>53.0</td>\n",
       "    </tr>\n",
       "    <tr>\n",
       "      <th>1950-01-05</th>\n",
       "      <td>20.0</td>\n",
       "      <td>25.0</td>\n",
       "    </tr>\n",
       "    <tr>\n",
       "      <th>...</th>\n",
       "      <td>...</td>\n",
       "      <td>...</td>\n",
       "    </tr>\n",
       "    <tr>\n",
       "      <th>2019-12-27</th>\n",
       "      <td>32.0</td>\n",
       "      <td>55.0</td>\n",
       "    </tr>\n",
       "    <tr>\n",
       "      <th>2019-12-28</th>\n",
       "      <td>30.0</td>\n",
       "      <td>39.0</td>\n",
       "    </tr>\n",
       "    <tr>\n",
       "      <th>2019-12-29</th>\n",
       "      <td>39.0</td>\n",
       "      <td>52.0</td>\n",
       "    </tr>\n",
       "    <tr>\n",
       "      <th>2019-12-30</th>\n",
       "      <td>30.0</td>\n",
       "      <td>51.0</td>\n",
       "    </tr>\n",
       "    <tr>\n",
       "      <th>2019-12-31</th>\n",
       "      <td>27.0</td>\n",
       "      <td>31.0</td>\n",
       "    </tr>\n",
       "  </tbody>\n",
       "</table>\n",
       "<p>23833 rows × 2 columns</p>\n",
       "</div>"
      ],
      "text/plain": [
       "            TMIN  TMAX\n",
       "DATE                  \n",
       "1950-01-01  38.0  45.0\n",
       "1950-01-02  44.0  49.0\n",
       "1950-01-03  49.0  58.0\n",
       "1950-01-04  19.0  53.0\n",
       "1950-01-05  20.0  25.0\n",
       "...          ...   ...\n",
       "2019-12-27  32.0  55.0\n",
       "2019-12-28  30.0  39.0\n",
       "2019-12-29  39.0  52.0\n",
       "2019-12-30  30.0  51.0\n",
       "2019-12-31  27.0  31.0\n",
       "\n",
       "[23833 rows x 2 columns]"
      ]
     },
     "execution_count": 3,
     "metadata": {},
     "output_type": "execute_result"
    }
   ],
   "source": [
    "fn_wx = 'LAN-WX.csv'\n",
    "df_wx = pd.read_csv(fn_wx, index_col=False)[['DATE', 'TMIN', 'TMAX']]\n",
    "\n",
    "#Let's convert our DATE to a Time stamp\n",
    "#We could have done this in read_csv\n",
    "df_wx['DATE'] = pd.to_datetime(df_wx['DATE'])\n",
    "\n",
    "#Set the DATE as the index (unique row label)\n",
    "df_wx.set_index('DATE', inplace=True, drop=True)\n",
    "\n",
    "#Convert time stamp into period\n",
    "#Here this one to one; it could be many to one if we used 'M' for months or 'A' for year\n",
    "df_wx.to_period('D', copy=False)"
   ]
  },
  {
   "cell_type": "markdown",
   "metadata": {},
   "source": [
    "## Display a table that shows the maximum daily temperatures for each month in the year 2013"
   ]
  },
  {
   "cell_type": "code",
   "execution_count": 4,
   "metadata": {},
   "outputs": [
    {
     "name": "stderr",
     "output_type": "stream",
     "text": [
      "/var/folders/03/17z2jhrx7fl0s78phbvjy6gm0000gn/T/ipykernel_17734/1765307480.py:2: FutureWarning: 'M' is deprecated and will be removed in a future version, please use 'ME' instead.\n",
      "  df_wx.loc['2013'].resample('M').agg(['mean', 'median', 'max', 'min', 'count'])\n"
     ]
    },
    {
     "data": {
      "text/html": [
       "<div>\n",
       "<style scoped>\n",
       "    .dataframe tbody tr th:only-of-type {\n",
       "        vertical-align: middle;\n",
       "    }\n",
       "\n",
       "    .dataframe tbody tr th {\n",
       "        vertical-align: top;\n",
       "    }\n",
       "\n",
       "    .dataframe thead tr th {\n",
       "        text-align: left;\n",
       "    }\n",
       "\n",
       "    .dataframe thead tr:last-of-type th {\n",
       "        text-align: right;\n",
       "    }\n",
       "</style>\n",
       "<table border=\"1\" class=\"dataframe\">\n",
       "  <thead>\n",
       "    <tr>\n",
       "      <th></th>\n",
       "      <th colspan=\"5\" halign=\"left\">TMIN</th>\n",
       "      <th colspan=\"5\" halign=\"left\">TMAX</th>\n",
       "    </tr>\n",
       "    <tr>\n",
       "      <th></th>\n",
       "      <th>mean</th>\n",
       "      <th>median</th>\n",
       "      <th>max</th>\n",
       "      <th>min</th>\n",
       "      <th>count</th>\n",
       "      <th>mean</th>\n",
       "      <th>median</th>\n",
       "      <th>max</th>\n",
       "      <th>min</th>\n",
       "      <th>count</th>\n",
       "    </tr>\n",
       "    <tr>\n",
       "      <th>DATE</th>\n",
       "      <th></th>\n",
       "      <th></th>\n",
       "      <th></th>\n",
       "      <th></th>\n",
       "      <th></th>\n",
       "      <th></th>\n",
       "      <th></th>\n",
       "      <th></th>\n",
       "      <th></th>\n",
       "      <th></th>\n",
       "    </tr>\n",
       "  </thead>\n",
       "  <tbody>\n",
       "    <tr>\n",
       "      <th>2013-01-31</th>\n",
       "      <td>19.225806</td>\n",
       "      <td>17.0</td>\n",
       "      <td>40.0</td>\n",
       "      <td>-4.0</td>\n",
       "      <td>31</td>\n",
       "      <td>34.161290</td>\n",
       "      <td>34.0</td>\n",
       "      <td>58.0</td>\n",
       "      <td>10.0</td>\n",
       "      <td>31</td>\n",
       "    </tr>\n",
       "    <tr>\n",
       "      <th>2013-02-28</th>\n",
       "      <td>17.464286</td>\n",
       "      <td>20.0</td>\n",
       "      <td>32.0</td>\n",
       "      <td>0.0</td>\n",
       "      <td>28</td>\n",
       "      <td>31.892857</td>\n",
       "      <td>31.5</td>\n",
       "      <td>46.0</td>\n",
       "      <td>17.0</td>\n",
       "      <td>28</td>\n",
       "    </tr>\n",
       "    <tr>\n",
       "      <th>2013-03-31</th>\n",
       "      <td>23.516129</td>\n",
       "      <td>24.0</td>\n",
       "      <td>38.0</td>\n",
       "      <td>11.0</td>\n",
       "      <td>31</td>\n",
       "      <td>38.225806</td>\n",
       "      <td>36.0</td>\n",
       "      <td>56.0</td>\n",
       "      <td>25.0</td>\n",
       "      <td>31</td>\n",
       "    </tr>\n",
       "    <tr>\n",
       "      <th>2013-04-30</th>\n",
       "      <td>34.833333</td>\n",
       "      <td>33.5</td>\n",
       "      <td>55.0</td>\n",
       "      <td>19.0</td>\n",
       "      <td>30</td>\n",
       "      <td>53.633333</td>\n",
       "      <td>56.0</td>\n",
       "      <td>74.0</td>\n",
       "      <td>35.0</td>\n",
       "      <td>30</td>\n",
       "    </tr>\n",
       "    <tr>\n",
       "      <th>2013-05-31</th>\n",
       "      <td>49.838710</td>\n",
       "      <td>50.0</td>\n",
       "      <td>68.0</td>\n",
       "      <td>28.0</td>\n",
       "      <td>31</td>\n",
       "      <td>73.258065</td>\n",
       "      <td>77.0</td>\n",
       "      <td>88.0</td>\n",
       "      <td>47.0</td>\n",
       "      <td>31</td>\n",
       "    </tr>\n",
       "    <tr>\n",
       "      <th>2013-06-30</th>\n",
       "      <td>57.600000</td>\n",
       "      <td>59.5</td>\n",
       "      <td>70.0</td>\n",
       "      <td>39.0</td>\n",
       "      <td>30</td>\n",
       "      <td>77.233333</td>\n",
       "      <td>78.0</td>\n",
       "      <td>88.0</td>\n",
       "      <td>67.0</td>\n",
       "      <td>30</td>\n",
       "    </tr>\n",
       "    <tr>\n",
       "      <th>2013-07-31</th>\n",
       "      <td>61.580645</td>\n",
       "      <td>61.0</td>\n",
       "      <td>76.0</td>\n",
       "      <td>50.0</td>\n",
       "      <td>31</td>\n",
       "      <td>81.580645</td>\n",
       "      <td>82.0</td>\n",
       "      <td>94.0</td>\n",
       "      <td>66.0</td>\n",
       "      <td>31</td>\n",
       "    </tr>\n",
       "    <tr>\n",
       "      <th>2013-08-31</th>\n",
       "      <td>58.290323</td>\n",
       "      <td>58.0</td>\n",
       "      <td>70.0</td>\n",
       "      <td>46.0</td>\n",
       "      <td>31</td>\n",
       "      <td>80.032258</td>\n",
       "      <td>80.0</td>\n",
       "      <td>89.0</td>\n",
       "      <td>69.0</td>\n",
       "      <td>31</td>\n",
       "    </tr>\n",
       "    <tr>\n",
       "      <th>2013-09-30</th>\n",
       "      <td>50.566667</td>\n",
       "      <td>48.5</td>\n",
       "      <td>74.0</td>\n",
       "      <td>36.0</td>\n",
       "      <td>30</td>\n",
       "      <td>72.733333</td>\n",
       "      <td>74.0</td>\n",
       "      <td>92.0</td>\n",
       "      <td>54.0</td>\n",
       "      <td>30</td>\n",
       "    </tr>\n",
       "    <tr>\n",
       "      <th>2013-10-31</th>\n",
       "      <td>42.064516</td>\n",
       "      <td>40.0</td>\n",
       "      <td>64.0</td>\n",
       "      <td>30.0</td>\n",
       "      <td>31</td>\n",
       "      <td>61.806452</td>\n",
       "      <td>62.0</td>\n",
       "      <td>80.0</td>\n",
       "      <td>46.0</td>\n",
       "      <td>31</td>\n",
       "    </tr>\n",
       "    <tr>\n",
       "      <th>2013-11-30</th>\n",
       "      <td>29.300000</td>\n",
       "      <td>30.0</td>\n",
       "      <td>46.0</td>\n",
       "      <td>14.0</td>\n",
       "      <td>30</td>\n",
       "      <td>44.000000</td>\n",
       "      <td>45.5</td>\n",
       "      <td>63.0</td>\n",
       "      <td>24.0</td>\n",
       "      <td>30</td>\n",
       "    </tr>\n",
       "    <tr>\n",
       "      <th>2013-12-31</th>\n",
       "      <td>18.548387</td>\n",
       "      <td>18.0</td>\n",
       "      <td>37.0</td>\n",
       "      <td>-1.0</td>\n",
       "      <td>31</td>\n",
       "      <td>30.225806</td>\n",
       "      <td>28.0</td>\n",
       "      <td>59.0</td>\n",
       "      <td>17.0</td>\n",
       "      <td>31</td>\n",
       "    </tr>\n",
       "  </tbody>\n",
       "</table>\n",
       "</div>"
      ],
      "text/plain": [
       "                 TMIN                                TMAX                     \\\n",
       "                 mean median   max   min count       mean median   max   min   \n",
       "DATE                                                                           \n",
       "2013-01-31  19.225806   17.0  40.0  -4.0    31  34.161290   34.0  58.0  10.0   \n",
       "2013-02-28  17.464286   20.0  32.0   0.0    28  31.892857   31.5  46.0  17.0   \n",
       "2013-03-31  23.516129   24.0  38.0  11.0    31  38.225806   36.0  56.0  25.0   \n",
       "2013-04-30  34.833333   33.5  55.0  19.0    30  53.633333   56.0  74.0  35.0   \n",
       "2013-05-31  49.838710   50.0  68.0  28.0    31  73.258065   77.0  88.0  47.0   \n",
       "2013-06-30  57.600000   59.5  70.0  39.0    30  77.233333   78.0  88.0  67.0   \n",
       "2013-07-31  61.580645   61.0  76.0  50.0    31  81.580645   82.0  94.0  66.0   \n",
       "2013-08-31  58.290323   58.0  70.0  46.0    31  80.032258   80.0  89.0  69.0   \n",
       "2013-09-30  50.566667   48.5  74.0  36.0    30  72.733333   74.0  92.0  54.0   \n",
       "2013-10-31  42.064516   40.0  64.0  30.0    31  61.806452   62.0  80.0  46.0   \n",
       "2013-11-30  29.300000   30.0  46.0  14.0    30  44.000000   45.5  63.0  24.0   \n",
       "2013-12-31  18.548387   18.0  37.0  -1.0    31  30.225806   28.0  59.0  17.0   \n",
       "\n",
       "                  \n",
       "           count  \n",
       "DATE              \n",
       "2013-01-31    31  \n",
       "2013-02-28    28  \n",
       "2013-03-31    31  \n",
       "2013-04-30    30  \n",
       "2013-05-31    31  \n",
       "2013-06-30    30  \n",
       "2013-07-31    31  \n",
       "2013-08-31    31  \n",
       "2013-09-30    30  \n",
       "2013-10-31    31  \n",
       "2013-11-30    30  \n",
       "2013-12-31    31  "
      ]
     },
     "execution_count": 4,
     "metadata": {},
     "output_type": "execute_result"
    }
   ],
   "source": [
    "#Take 2013 days; resample (group) by month; give aggregate statistics\n",
    "df_wx.loc['2013'].resample('M').agg(['mean', 'median', 'max', 'min', 'count'])"
   ]
  },
  {
   "cell_type": "markdown",
   "metadata": {},
   "source": [
    "## Find the maximum temperature in Lansing for the day of your birth and each birthday thereafter"
   ]
  },
  {
   "cell_type": "markdown",
   "metadata": {},
   "source": []
  },
  {
   "cell_type": "markdown",
   "metadata": {},
   "source": [
    " Plot it as a violin plot using Seaborn."
   ]
  },
  {
   "cell_type": "code",
   "execution_count": 5,
   "metadata": {},
   "outputs": [
    {
     "name": "stderr",
     "output_type": "stream",
     "text": [
      "/Users/rishighael/Library/Python/3.9/lib/python/site-packages/seaborn/_base.py:949: FutureWarning: When grouping with a length-1 list-like, you will need to pass a length-1 tuple to get_group in a future version of pandas. Pass `(name,)` instead of `name` to silence this warning.\n",
      "  data_subset = grouped_data.get_group(pd_key)\n"
     ]
    },
    {
     "data": {
      "text/plain": [
       "<Axes: ylabel='TMAX'>"
      ]
     },
     "execution_count": 5,
     "metadata": {},
     "output_type": "execute_result"
    },
    {
     "data": {
      "image/png": "[encoded data removed]",
      "text/plain": [
       "<Figure size 640x480 with 1 Axes>"
      ]
     },
     "metadata": {},
     "output_type": "display_data"
    }
   ],
   "source": [
    "bday = dateutil.parser.parse ('11/15/1982')\n",
    "last_bday = dateutil.parser.parse('11/15/2019')\n",
    "bday_range = pd.date_range(bday, last_bday, freq=pd.DateOffset(years=1))\n",
    "\n",
    "bday_wx = df_wx.loc[bday_range]\n",
    "sns.violinplot(data=bday_wx, y='TMAX', inner='quartile')"
   ]
  },
  {
   "cell_type": "markdown",
   "metadata": {},
   "source": [
    "Using the same data, create a histogram using seaborn's `histplot` method."
   ]
  },
  {
   "cell_type": "code",
   "execution_count": 6,
   "metadata": {},
   "outputs": [
    {
     "data": {
      "text/plain": [
       "<Axes: xlabel='TMAX', ylabel='Count'>"
      ]
     },
     "execution_count": 6,
     "metadata": {},
     "output_type": "execute_result"
    },
    {
     "data": {
      "image/png": "[encoded data removed]",
      "text/plain": [
       "<Figure size 640x480 with 1 Axes>"
      ]
     },
     "metadata": {},
     "output_type": "display_data"
    }
   ],
   "source": [
    "sns.histplot(data=bday_wx, x='TMAX')"
   ]
  },
  {
   "cell_type": "markdown",
   "metadata": {},
   "source": [
    "## Find the decade maximum high and low temperature from 1950.  Plot both the maximum and minimum values as a single line plot."
   ]
  },
  {
   "cell_type": "code",
   "execution_count": 7,
   "metadata": {},
   "outputs": [
    {
     "name": "stderr",
     "output_type": "stream",
     "text": [
      "/var/folders/03/17z2jhrx7fl0s78phbvjy6gm0000gn/T/ipykernel_17734/3798375061.py:1: FutureWarning: 'A' is deprecated and will be removed in a future version, please use 'YE' instead.\n",
      "  max_10yr = df_wx.loc['1950':].resample('10A')['TMAX'].max()\n",
      "/var/folders/03/17z2jhrx7fl0s78phbvjy6gm0000gn/T/ipykernel_17734/3798375061.py:2: FutureWarning: 'A' is deprecated and will be removed in a future version, please use 'YE' instead.\n",
      "  min_10yr = df_wx.loc['1950':].resample('10A')['TMIN'].min()\n"
     ]
    },
    {
     "data": {
      "text/plain": [
       "<Axes: xlabel='DATE', ylabel='TMAX'>"
      ]
     },
     "execution_count": 7,
     "metadata": {},
     "output_type": "execute_result"
    },
    {
     "data": {
      "image/png": "[encoded data removed]",
      "text/plain": [
       "<Figure size 640x480 with 1 Axes>"
      ]
     },
     "metadata": {},
     "output_type": "display_data"
    }
   ],
   "source": [
    "max_10yr = df_wx.loc['1950':].resample('10A')['TMAX'].max()\n",
    "min_10yr = df_wx.loc['1950':].resample('10A')['TMIN'].min()\n",
    "\n",
    "sns.lineplot(x=max_10yr.index, y=max_10yr, color='magenta', label='Decade Max')\n",
    "sns.lineplot(x=min_10yr.index, y=min_10yr, color='blue', label='Decade Min')"
   ]
  },
  {
   "cell_type": "markdown",
   "metadata": {},
   "source": [
    "## Boxplots of class day max temps\n",
    "\n",
    "This class started on Jaunary 11, 2020 and runs for 16 weeks. It meets on Mondays and Wednesdays. Use boxplots to plot the historical distribution from 1960 onward of high temperatures for each date we meet this semester.  In other words, plot the range of maximum temperatures for each (month,day) value in the 2020 course calendar across all years from 1960 onward.\n",
    "\n",
    "\n",
    "First find the date_range for the Mondays we meet in 2022 (including spring break).  Then `union` that with the date range for the Wendesdays of the semester."
   ]
  },
  {
   "cell_type": "code",
   "execution_count": 8,
   "metadata": {},
   "outputs": [
    {
     "data": {
      "text/plain": [
       "DatetimeIndex(['2022-01-10', '2022-01-12', '2022-01-17', '2022-01-19',\n",
       "               '2022-01-24', '2022-01-26', '2022-01-31', '2022-02-02',\n",
       "               '2022-02-07', '2022-02-09', '2022-02-14', '2022-02-16',\n",
       "               '2022-02-21', '2022-02-23', '2022-02-28', '2022-03-02',\n",
       "               '2022-03-07', '2022-03-09', '2022-03-14', '2022-03-16',\n",
       "               '2022-03-21', '2022-03-23', '2022-03-28', '2022-03-30',\n",
       "               '2022-04-04', '2022-04-06', '2022-04-11', '2022-04-13',\n",
       "               '2022-04-18', '2022-04-20', '2022-04-25', '2022-04-27'],\n",
       "              dtype='datetime64[ns]', freq=None)"
      ]
     },
     "execution_count": 8,
     "metadata": {},
     "output_type": "execute_result"
    }
   ],
   "source": [
    "class_2022_m = pd.date_range('1/10/2022', freq='W-MON', periods=16)\n",
    "class_2022_w = pd.date_range('1/10/2022', freq='W-WED', periods=16)\n",
    "class_2022 = class_2022_m.union (class_2022_w)\n",
    "class_2022"
   ]
  },
  {
   "cell_type": "markdown",
   "metadata": {},
   "source": [
    "Make a copy of this union of date ranges.\n",
    "\n",
    "You can then write a loop to find how many years to offset each entry in your semester index and repeat the unioning process to generate entries for each year from 1960 to 2019 in the copy you created.  In the end you should have an entry for each month/day we meet in 2022 but spanning over the years 1960 to 2019."
   ]
  },
  {
   "cell_type": "code",
   "execution_count": 9,
   "metadata": {},
   "outputs": [
    {
     "data": {
      "text/plain": [
       "DatetimeIndex(['1960-01-10', '1960-01-12', '1960-01-17', '1960-01-19',\n",
       "               '1960-01-24', '1960-01-26', '1960-01-31', '1960-02-02',\n",
       "               '1960-02-07', '1960-02-09',\n",
       "               ...\n",
       "               '2019-03-28', '2019-03-30', '2019-04-04', '2019-04-06',\n",
       "               '2019-04-11', '2019-04-13', '2019-04-18', '2019-04-20',\n",
       "               '2019-04-25', '2019-04-27'],\n",
       "              dtype='datetime64[ns]', length=1920, freq=None)"
      ]
     },
     "execution_count": 9,
     "metadata": {},
     "output_type": "execute_result"
    }
   ],
   "source": [
    "class_historic = pd.date_range(start='1/10/1960', end='1/10/1960', periods=1)\n",
    "for year in range(1960,2020):\n",
    "    offset = 2022-year\n",
    "    new_dates = class_2022 - pd.DateOffset(years=offset)\n",
    "    class_historic = class_historic.union(new_dates)\n",
    "class_historic"
   ]
  },
  {
   "cell_type": "markdown",
   "metadata": {},
   "source": [
    "Now that we have a list of dates, we can retrieve entries for each date from 1960 to 2019 on month/days that we meet.  However to plot this as a boxplot for each date over all years, we need to change our Index around.\n",
    "\n",
    "We want to create what is called a MultiIndex.  `groupby` generated this for us in the past, but here we want to break our current Index of dates into a MultiIndex of three elments: the year, the month, and the day.\n",
    "\n",
    "To create this new index, if df_class is the data frame that holds the values for each date over all years:\n",
    "    pd.MultiIndex.from_arrays([df_class.index.year, df_class.index.month, df_class.index.day], names=['year', 'month', 'day'])\n",
    "\n",
    "This will return a new index.  And you can use `set_index` on the data frame you are working on (e.g. df_class) to replace the index. \n",
    "\n",
    "Using `reset_index` on that dataframe will then flatten it to give each entry a full year, month, day index.  (In essence, it collapses the groupby behavior).  Use `inplace=True` here.  Call `reset_index` again (with `inplace=True`) to convert our DataFrame's index back to the default integer-based index.  So, if df_class is your dataframe:\n",
    "\n",
    "    df_class.reset_index(inplace=True)   # Collapses our MultiIndex, flattening it\n",
    "    df_class.reset_index(inplace=True)   # Converts the MultiIndex into columns; giving us the default integer Index\n"
   ]
  },
  {
   "cell_type": "code",
   "execution_count": 10,
   "metadata": {},
   "outputs": [
    {
     "data": {
      "text/html": [
       "<div>\n",
       "<style scoped>\n",
       "    .dataframe tbody tr th:only-of-type {\n",
       "        vertical-align: middle;\n",
       "    }\n",
       "\n",
       "    .dataframe tbody tr th {\n",
       "        vertical-align: top;\n",
       "    }\n",
       "\n",
       "    .dataframe thead th {\n",
       "        text-align: right;\n",
       "    }\n",
       "</style>\n",
       "<table border=\"1\" class=\"dataframe\">\n",
       "  <thead>\n",
       "    <tr style=\"text-align: right;\">\n",
       "      <th></th>\n",
       "      <th>year</th>\n",
       "      <th>month</th>\n",
       "      <th>day</th>\n",
       "      <th>TMIN</th>\n",
       "      <th>TMAX</th>\n",
       "    </tr>\n",
       "  </thead>\n",
       "  <tbody>\n",
       "    <tr>\n",
       "      <th>0</th>\n",
       "      <td>1960</td>\n",
       "      <td>1</td>\n",
       "      <td>10</td>\n",
       "      <td>26.0</td>\n",
       "      <td>37.0</td>\n",
       "    </tr>\n",
       "    <tr>\n",
       "      <th>1</th>\n",
       "      <td>1960</td>\n",
       "      <td>1</td>\n",
       "      <td>12</td>\n",
       "      <td>27.0</td>\n",
       "      <td>52.0</td>\n",
       "    </tr>\n",
       "    <tr>\n",
       "      <th>2</th>\n",
       "      <td>1960</td>\n",
       "      <td>1</td>\n",
       "      <td>17</td>\n",
       "      <td>14.0</td>\n",
       "      <td>31.0</td>\n",
       "    </tr>\n",
       "    <tr>\n",
       "      <th>3</th>\n",
       "      <td>1960</td>\n",
       "      <td>1</td>\n",
       "      <td>19</td>\n",
       "      <td>22.0</td>\n",
       "      <td>31.0</td>\n",
       "    </tr>\n",
       "    <tr>\n",
       "      <th>4</th>\n",
       "      <td>1960</td>\n",
       "      <td>1</td>\n",
       "      <td>24</td>\n",
       "      <td>8.0</td>\n",
       "      <td>27.0</td>\n",
       "    </tr>\n",
       "    <tr>\n",
       "      <th>...</th>\n",
       "      <td>...</td>\n",
       "      <td>...</td>\n",
       "      <td>...</td>\n",
       "      <td>...</td>\n",
       "      <td>...</td>\n",
       "    </tr>\n",
       "    <tr>\n",
       "      <th>1915</th>\n",
       "      <td>2019</td>\n",
       "      <td>4</td>\n",
       "      <td>13</td>\n",
       "      <td>34.0</td>\n",
       "      <td>52.0</td>\n",
       "    </tr>\n",
       "    <tr>\n",
       "      <th>1916</th>\n",
       "      <td>2019</td>\n",
       "      <td>4</td>\n",
       "      <td>18</td>\n",
       "      <td>41.0</td>\n",
       "      <td>66.0</td>\n",
       "    </tr>\n",
       "    <tr>\n",
       "      <th>1917</th>\n",
       "      <td>2019</td>\n",
       "      <td>4</td>\n",
       "      <td>20</td>\n",
       "      <td>36.0</td>\n",
       "      <td>54.0</td>\n",
       "    </tr>\n",
       "    <tr>\n",
       "      <th>1918</th>\n",
       "      <td>2019</td>\n",
       "      <td>4</td>\n",
       "      <td>25</td>\n",
       "      <td>51.0</td>\n",
       "      <td>65.0</td>\n",
       "    </tr>\n",
       "    <tr>\n",
       "      <th>1919</th>\n",
       "      <td>2019</td>\n",
       "      <td>4</td>\n",
       "      <td>27</td>\n",
       "      <td>33.0</td>\n",
       "      <td>51.0</td>\n",
       "    </tr>\n",
       "  </tbody>\n",
       "</table>\n",
       "<p>1920 rows × 5 columns</p>\n",
       "</div>"
      ],
      "text/plain": [
       "      year  month  day  TMIN  TMAX\n",
       "0     1960      1   10  26.0  37.0\n",
       "1     1960      1   12  27.0  52.0\n",
       "2     1960      1   17  14.0  31.0\n",
       "3     1960      1   19  22.0  31.0\n",
       "4     1960      1   24   8.0  27.0\n",
       "...    ...    ...  ...   ...   ...\n",
       "1915  2019      4   13  34.0  52.0\n",
       "1916  2019      4   18  41.0  66.0\n",
       "1917  2019      4   20  36.0  54.0\n",
       "1918  2019      4   25  51.0  65.0\n",
       "1919  2019      4   27  33.0  51.0\n",
       "\n",
       "[1920 rows x 5 columns]"
      ]
     },
     "execution_count": 10,
     "metadata": {},
     "output_type": "execute_result"
    }
   ],
   "source": [
    "df_class = df_wx. loc[class_historic]\n",
    "new_index = pd.MultiIndex.from_arrays(\n",
    "    [df_class.index.year, df_class.index.month, df_class.index.day],\n",
    "    names=['year', 'month', 'day']\n",
    ")\n",
    "df_class = df_class.set_index(new_index)\n",
    "df_class.reset_index(inplace=True)\n",
    "df_class"
   ]
  },
  {
   "cell_type": "markdown",
   "metadata": {},
   "source": [
    "Now we can make the boxplot using Seaborn's boxplot function.  Assuming `df_class` is our DataFrame:\n",
    "\n",
    "    sns.boxplot(data=df_class, x=df_class[['month','day']].apply(lambda x: f'{x[0]}/{x[1]}', axis=1), y='TMAX')\n",
    "    plt.xticks(rotation=45);\n",
    "\n",
    "This says that we should plot what is in `df_class`, that we want the x-axis values to be a string in the form of month/day and the y-values to be the maximum temperature.  We then want to rotate the x-tick labels 45 degrees.  The semicolon at the end of the second command suppresses output."
   ]
  },
  {
   "cell_type": "code",
   "execution_count": 11,
   "metadata": {},
   "outputs": [
    {
     "name": "stderr",
     "output_type": "stream",
     "text": [
      "/var/folders/03/17z2jhrx7fl0s78phbvjy6gm0000gn/T/ipykernel_17734/3789252044.py:2: FutureWarning: Series.__getitem__ treating keys as positions is deprecated. In a future version, integer keys will always be treated as labels (consistent with DataFrame behavior). To access a value by position, use `ser.iloc[pos]`\n",
      "  x=df_class[['month','day']].apply(lambda x: f'{x[0]}/{x[1]}', \\\n"
     ]
    },
    {
     "name": "stderr",
     "output_type": "stream",
     "text": [
      "/Users/rishighael/Library/Python/3.9/lib/python/site-packages/seaborn/categorical.py:640: FutureWarning: SeriesGroupBy.grouper is deprecated and will be removed in a future version of pandas.\n",
      "  positions = grouped.grouper.result_index.to_numpy(dtype=float)\n"
     ]
    },
    {
     "data": {
      "text/plain": [
       "([0,\n",
       "  1,\n",
       "  2,\n",
       "  3,\n",
       "  4,\n",
       "  5,\n",
       "  6,\n",
       "  7,\n",
       "  8,\n",
       "  9,\n",
       "  10,\n",
       "  11,\n",
       "  12,\n",
       "  13,\n",
       "  14,\n",
       "  15,\n",
       "  16,\n",
       "  17,\n",
       "  18,\n",
       "  19,\n",
       "  20,\n",
       "  21,\n",
       "  22,\n",
       "  23,\n",
       "  24,\n",
       "  25,\n",
       "  26,\n",
       "  27,\n",
       "  28,\n",
       "  29,\n",
       "  30,\n",
       "  31],\n",
       " [Text(0, 0, '1/10'),\n",
       "  Text(1, 0, '1/12'),\n",
       "  Text(2, 0, '1/17'),\n",
       "  Text(3, 0, '1/19'),\n",
       "  Text(4, 0, '1/24'),\n",
       "  Text(5, 0, '1/26'),\n",
       "  Text(6, 0, '1/31'),\n",
       "  Text(7, 0, '2/2'),\n",
       "  Text(8, 0, '2/7'),\n",
       "  Text(9, 0, '2/9'),\n",
       "  Text(10, 0, '2/14'),\n",
       "  Text(11, 0, '2/16'),\n",
       "  Text(12, 0, '2/21'),\n",
       "  Text(13, 0, '2/23'),\n",
       "  Text(14, 0, '2/28'),\n",
       "  Text(15, 0, '3/2'),\n",
       "  Text(16, 0, '3/7'),\n",
       "  Text(17, 0, '3/9'),\n",
       "  Text(18, 0, '3/14'),\n",
       "  Text(19, 0, '3/16'),\n",
       "  Text(20, 0, '3/21'),\n",
       "  Text(21, 0, '3/23'),\n",
       "  Text(22, 0, '3/28'),\n",
       "  Text(23, 0, '3/30'),\n",
       "  Text(24, 0, '4/4'),\n",
       "  Text(25, 0, '4/6'),\n",
       "  Text(26, 0, '4/11'),\n",
       "  Text(27, 0, '4/13'),\n",
       "  Text(28, 0, '4/18'),\n",
       "  Text(29, 0, '4/20'),\n",
       "  Text(30, 0, '4/25'),\n",
       "  Text(31, 0, '4/27')])"
      ]
     },
     "execution_count": 11,
     "metadata": {},
     "output_type": "execute_result"
    },
    {
     "data": {
      "image/png": "[encoded data removed]",
      "text/plain": [
       "<Figure size 640x480 with 1 Axes>"
      ]
     },
     "metadata": {},
     "output_type": "display_data"
    }
   ],
   "source": [
    "sns.boxplot(data=df_class,\\\n",
    "            x=df_class[['month','day']].apply(lambda x: f'{x[0]}/{x[1]}', \\\n",
    "                                               axis=1), y='TMAX')\n",
    "plt.xticks(rotation=45)"
   ]
  },
  {
   "cell_type": "markdown",
   "metadata": {},
   "source": [
    " ## 90&deg; days\n",
    " \n",
    " The number of 90&deg;F days per year are often used to describe climate change.  Plot the average number of 90&deg;F days as a rolling average over 5 years across the entire data set. \n",
    "\n",
    " Here we might want to use a list to store a tuple that contains the start year and the count of 90 degree days and a loop to iterate over the years 1960 to 2020-`window_size`, where `window_size` is 5.\n",
    "\n",
    " You may also need to use `numpy`'s `count_nonzero` to assist you with the counting.\n",
    "\n",
    " Once you have created your list of tuples, you can use `np.array` to convert it into a data structure that will allow slicing.  From there you can use seaborn's `lineplot` to plot your results."
   ]
  },
  {
   "cell_type": "markdown",
   "metadata": {},
   "source": []
  },
  {
   "cell_type": "code",
   "execution_count": 14,
   "metadata": {},
   "outputs": [
    {
     "data": {
      "text/plain": [
       "Text(0, 0.5, 'Avg Days > 90')"
      ]
     },
     "execution_count": 14,
     "metadata": {},
     "output_type": "execute_result"
    },
    {
     "data": {
      "image/png": "[encoded data removed]",
      "text/plain": [
       "<Figure size 640x480 with 1 Axes>"
      ]
     },
     "metadata": {},
     "output_type": "display_data"
    }
   ],
   "source": [
    "\n",
    "import numpy as np\n",
    "deg_90 = []\n",
    "window=5\n",
    "for start_yr in range (1960,2020-window):\n",
    "    end_yr = start_yr + window - 1\n",
    "    yrs_range = pd.date_range(f'1/1/{start_yr}', f'12/31/{end_yr}')\n",
    "    yrs_wx = df_wx.loc[yrs_range]\n",
    "    count_90 = np.count_nonzero(yrs_wx['TMAX'] > 90)\n",
    "    deg_90. append ((start_yr, count_90))\n",
    "data = np.array(deg_90)\n",
    "sns. lineplot(x=data[:,0], y=data[:,1]/window)\n",
    "plt.xlabel('Start Year')\n",
    "plt.ylabel('Avg Days > 90')"
   ]
  },
  {
   "cell_type": "code",
   "execution_count": 16,
   "metadata": {},
   "outputs": [
    {
     "data": {
      "text/plain": [
       "Text(0, 0.5, 'Avg Days > 45')"
      ]
     },
     "execution_count": 16,
     "metadata": {},
     "output_type": "execute_result"
    },
    {
     "data": {
      "image/png": "[encoded data removed]",
      "text/plain": [
       "<Figure size 640x480 with 1 Axes>"
      ]
     },
     "metadata": {},
     "output_type": "display_data"
    }
   ],
   "source": [
    "import numpy as np\n",
    "deg_45 = []\n",
    "window=5\n",
    "for start_yr in range (1960,2020-window):\n",
    "    end_yr = start_yr + window - 1\n",
    "    yrs_range = pd.date_range(f'1/1/{start_yr}', f'12/31/{end_yr}')\n",
    "    yrs_wx = df_wx.loc[yrs_range]\n",
    "    count_90 = np.count_nonzero(yrs_wx['TMAX'] > 45)\n",
    "    deg_45. append ((start_yr, count_90))\n",
    "data = np.array(deg_45)\n",
    "sns. lineplot(x=data[:,0], y=data[:,1]/window)\n",
    "plt.xlabel('Start Year')\n",
    "plt.ylabel('Avg Days > 45')"
   ]
  }
 ],
 "metadata": {
  "kernelspec": {
   "display_name": "Python 3",
   "language": "python",
   "name": "python3"
  },
  "language_info": {
   "codemirror_mode": {
    "name": "ipython",
    "version": 3
   },
   "file_extension": ".py",
   "mimetype": "text/x-python",
   "name": "python",
   "nbconvert_exporter": "python",
   "pygments_lexer": "ipython3",
   "version": "3.9.6"
  }
 },
 "nbformat": 4,
 "nbformat_minor": 2
}
