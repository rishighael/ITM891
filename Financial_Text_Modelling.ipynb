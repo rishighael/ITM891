{
  "nbformat": 4,
  "nbformat_minor": 0,
  "metadata": {
    "colab": {
      "provenance": [],
      "authorship_tag": "ABX9TyP71FEOv/bNuMrzqMjlTcrD",
      "include_colab_link": true
    },
    "kernelspec": {
      "name": "python3",
      "display_name": "Python 3"
    },
    "language_info": {
      "name": "python"
    }
  },
  "cells": [
    {
      "cell_type": "markdown",
      "metadata": {
        "id": "view-in-github",
        "colab_type": "text"
      },
      "source": [
        "<a href=\"https://colab.research.google.com/github/rishighael/ITM891/blob/main/Financial_Text_Modelling.ipynb\" target=\"_parent\"><img src=\"https://colab.research.google.com/assets/colab-badge.svg\" alt=\"Open In Colab\"/></a>"
      ]
    },
    {
      "cell_type": "markdown",
      "source": [
        "1. \"The S&P 500 closed at a record high today, driven by strong earnings reports from major tech companies. Investors continue to show confidence in the growth prospects of the technology sector, although concerns over inflation and interest rate hikes persist.\"\n",
        "\n",
        "2. \"Diversifying your portfolio across different asset classes—such as stocks, bonds, and real estate—can mitigate risk and improve long-term returns. In particular, adding international equities can provide exposure to high-growth markets and help hedge against domestic economic downturns.\"\n",
        "\n",
        "3. \"Bitcoin surged 5% in early trading after a major institutional investor announced it would be allocating a significant portion of its portfolio to digital currencies. While the asset remains volatile, its increasing adoption by large financial firms suggests a growing role in the global financial system.\"\n",
        "\n",
        "4. \"Tesla reported record quarterly revenues of $16 billion, exceeding analysts' expectations. The company’s strong performance was driven by increased demand for electric vehicles and higher production capacity. Despite supply chain disruptions, Tesla has maintained high margins, reinforcing investor confidence.\"\n",
        "\n",
        "5. \"Establishing an emergency fund should be a priority for all individuals. Ideally, you should aim to save at least three to six months' worth of living expenses in a high-interest savings account. This will provide a financial cushion in case of job loss or unexpected expenses.\"\n",
        "\n",
        "6. \"U.S. Treasury yields have risen slightly as investors brace for potential interest rate increases by the Federal Reserve. Bond prices, which move inversely to yields, have fallen across the board. Experts recommend maintaining a diversified fixed-income portfolio to hedge against volatility.\"\n",
        "\n",
        "7. \"The housing market continues to experience significant price appreciation, with home prices rising over 12% year-over-year in many major metropolitan areas. Low mortgage rates and high demand are contributing factors, though some analysts warn of a potential market correction.\"\n",
        "\n",
        "8. \"Hedging strategies using options contracts have become increasingly popular among institutional investors looking to manage risk in a volatile market. By purchasing put options, investors can protect their portfolios from downside risks while retaining upside potential.\"\n",
        "\n",
        "9. \"Environmental, social, and governance (ESG) criteria are becoming a key focus for investors looking to align their portfolios with sustainable practices. Funds that incorporate ESG metrics have seen a significant influx of capital, particularly in the renewable energy and technology sectors.\"\n",
        "\n",
        "10. \"With inflation rates at a 40-year high, consumers are seeing increased costs for goods and services across the board. Central banks are expected to raise interest rates to curb inflation, though there are concerns that this could slow economic growth and increase unemployment.\"\n",
        "\n",
        "11. \"Many pension funds are increasingly allocating a portion of their assets to alternative investments such as private equity, real estate, and hedge funds. This strategy is aimed at achieving higher returns in a low-interest-rate environment, though it may come with increased risk.\"\n",
        "\n",
        "12. \"The U.S. dollar weakened against the euro today, reflecting growing concerns over the U.S. economy’s ability to sustain growth amid rising interest rates. Meanwhile, the yen gained as investors sought safe-haven assets during heightened geopolitical tensions.\"\n",
        "\n",
        "13. \"Oil prices jumped 3% after OPEC announced it would continue its production cuts to stabilize the market. Increased global demand for energy, combined with supply chain bottlenecks, has driven crude oil prices to their highest levels in over a decade.\"\n",
        "\n",
        "14. \"Amazon's acquisition of MGM Studios for $8.45 billion signals the tech giant’s growing interest in expanding its content library for Prime Video. The deal highlights the increasing competition among streaming services to secure exclusive content and attract new subscribers.\"\n",
        "\n",
        "15. \"The new tax reform bill, which includes provisions for corporate tax cuts and increased deductions for small businesses, is expected to stimulate business investment. However, critics argue that it may disproportionately benefit large corporations while increasing the national deficit.\"\n"
      ],
      "metadata": {
        "id": "cs-QUG6YYQ4X"
      }
    },
    {
      "cell_type": "code",
      "source": [
        "!pip install gensim\n",
        "!pip install nltk\n",
        "!pip install pyLDAvis"
      ],
      "metadata": {
        "colab": {
          "base_uri": "https://localhost:8080/"
        },
        "id": "KdNY7PX4YTcl",
        "outputId": "94543730-9b2f-41f4-ac05-2f7a9ffba132"
      },
      "execution_count": 3,
      "outputs": [
        {
          "output_type": "stream",
          "name": "stdout",
          "text": [
            "Requirement already satisfied: gensim in /usr/local/lib/python3.10/dist-packages (4.3.3)\n",
            "Requirement already satisfied: numpy<2.0,>=1.18.5 in /usr/local/lib/python3.10/dist-packages (from gensim) (1.26.4)\n",
            "Requirement already satisfied: scipy<1.14.0,>=1.7.0 in /usr/local/lib/python3.10/dist-packages (from gensim) (1.13.1)\n",
            "Requirement already satisfied: smart-open>=1.8.1 in /usr/local/lib/python3.10/dist-packages (from gensim) (7.0.5)\n",
            "Requirement already satisfied: wrapt in /usr/local/lib/python3.10/dist-packages (from smart-open>=1.8.1->gensim) (1.16.0)\n",
            "Requirement already satisfied: nltk in /usr/local/lib/python3.10/dist-packages (3.8.1)\n",
            "Requirement already satisfied: click in /usr/local/lib/python3.10/dist-packages (from nltk) (8.1.7)\n",
            "Requirement already satisfied: joblib in /usr/local/lib/python3.10/dist-packages (from nltk) (1.4.2)\n",
            "Requirement already satisfied: regex>=2021.8.3 in /usr/local/lib/python3.10/dist-packages (from nltk) (2024.9.11)\n",
            "Requirement already satisfied: tqdm in /usr/local/lib/python3.10/dist-packages (from nltk) (4.66.5)\n",
            "Collecting pyLDAvis\n",
            "  Downloading pyLDAvis-3.4.1-py3-none-any.whl.metadata (4.2 kB)\n",
            "Requirement already satisfied: numpy>=1.24.2 in /usr/local/lib/python3.10/dist-packages (from pyLDAvis) (1.26.4)\n",
            "Requirement already satisfied: scipy in /usr/local/lib/python3.10/dist-packages (from pyLDAvis) (1.13.1)\n",
            "Requirement already satisfied: pandas>=2.0.0 in /usr/local/lib/python3.10/dist-packages (from pyLDAvis) (2.2.2)\n",
            "Requirement already satisfied: joblib>=1.2.0 in /usr/local/lib/python3.10/dist-packages (from pyLDAvis) (1.4.2)\n",
            "Requirement already satisfied: jinja2 in /usr/local/lib/python3.10/dist-packages (from pyLDAvis) (3.1.4)\n",
            "Requirement already satisfied: numexpr in /usr/local/lib/python3.10/dist-packages (from pyLDAvis) (2.10.1)\n",
            "Collecting funcy (from pyLDAvis)\n",
            "  Downloading funcy-2.0-py2.py3-none-any.whl.metadata (5.9 kB)\n",
            "Requirement already satisfied: scikit-learn>=1.0.0 in /usr/local/lib/python3.10/dist-packages (from pyLDAvis) (1.5.2)\n",
            "Requirement already satisfied: gensim in /usr/local/lib/python3.10/dist-packages (from pyLDAvis) (4.3.3)\n",
            "Requirement already satisfied: setuptools in /usr/local/lib/python3.10/dist-packages (from pyLDAvis) (71.0.4)\n",
            "Requirement already satisfied: python-dateutil>=2.8.2 in /usr/local/lib/python3.10/dist-packages (from pandas>=2.0.0->pyLDAvis) (2.8.2)\n",
            "Requirement already satisfied: pytz>=2020.1 in /usr/local/lib/python3.10/dist-packages (from pandas>=2.0.0->pyLDAvis) (2024.2)\n",
            "Requirement already satisfied: tzdata>=2022.7 in /usr/local/lib/python3.10/dist-packages (from pandas>=2.0.0->pyLDAvis) (2024.2)\n",
            "Requirement already satisfied: threadpoolctl>=3.1.0 in /usr/local/lib/python3.10/dist-packages (from scikit-learn>=1.0.0->pyLDAvis) (3.5.0)\n",
            "Requirement already satisfied: smart-open>=1.8.1 in /usr/local/lib/python3.10/dist-packages (from gensim->pyLDAvis) (7.0.5)\n",
            "Requirement already satisfied: MarkupSafe>=2.0 in /usr/local/lib/python3.10/dist-packages (from jinja2->pyLDAvis) (3.0.1)\n",
            "Requirement already satisfied: six>=1.5 in /usr/local/lib/python3.10/dist-packages (from python-dateutil>=2.8.2->pandas>=2.0.0->pyLDAvis) (1.16.0)\n",
            "Requirement already satisfied: wrapt in /usr/local/lib/python3.10/dist-packages (from smart-open>=1.8.1->gensim->pyLDAvis) (1.16.0)\n",
            "Downloading pyLDAvis-3.4.1-py3-none-any.whl (2.6 MB)\n",
            "\u001b[2K   \u001b[90m━━━━━━━━━━━━━━━━━━━━━━━━━━━━━━━━━━━━━━━━\u001b[0m \u001b[32m2.6/2.6 MB\u001b[0m \u001b[31m23.6 MB/s\u001b[0m eta \u001b[36m0:00:00\u001b[0m\n",
            "\u001b[?25hDownloading funcy-2.0-py2.py3-none-any.whl (30 kB)\n",
            "Installing collected packages: funcy, pyLDAvis\n",
            "Successfully installed funcy-2.0 pyLDAvis-3.4.1\n"
          ]
        }
      ]
    },
    {
      "cell_type": "code",
      "source": [
        "import nltk\n",
        "import gensim\n",
        "from gensim import corpora\n",
        "from nltk.corpus import stopwords\n",
        "from nltk.tokenize import word_tokenize\n",
        "from nltk.stem import WordNetLemmatizer\n",
        "import pyLDAvis.gensim_models as gensimvis\n",
        "import pyLDAvis\n",
        "\n",
        "# Load the stopwords and other necessary resources\n",
        "nltk.download('punkt')\n",
        "nltk.download('wordnet')\n",
        "nltk.download('stopwords')\n",
        "\n",
        "stop_words = set(stopwords.words('english'))\n",
        "lemmatizer = WordNetLemmatizer()\n",
        "\n",
        "# Preprocess the texts: tokenization, removing stopwords, and lemmatization\n",
        "def preprocess(texts):\n",
        "    processed_texts = []\n",
        "    for text in texts:\n",
        "        tokens = word_tokenize(text.lower())\n",
        "        tokens = [lemmatizer.lemmatize(word) for word in tokens if word.isalpha() and word not in stop_words]\n",
        "        processed_texts.append(tokens)\n",
        "    return processed_texts\n",
        "\n",
        "# List of financial texts (from above)\n",
        "texts = [\n",
        "  \"The S&P 500 closed at a record high today, driven by strong earnings reports from major tech companies. Investors continue to show confidence in the growth prospects of the technology sector, although concerns over inflation and interest rate hikes persist.\",\n",
        "  \"Diversifying your portfolio across different asset classes—such as stocks, bonds, and real estate—can mitigate risk and improve long-term returns. In particular, adding international equities can provide exposure to high-growth markets and help hedge against domestic economic downturns.\",\n",
        "  \"Bitcoin surged 5% in early trading after a major institutional investor announced it would be allocating a significant portion of its portfolio to digital currencies. While the asset remains volatile, its increasing adoption by large financial firms suggests a growing role in the global financial system.\",\n",
        "  \"Tesla reported record quarterly revenues of $16 billion, exceeding analysts' expectations. The company’s strong performance was driven by increased demand for electric vehicles and higher production capacity. Despite supply chain disruptions, Tesla has maintained high margins, reinforcing investor confidence.\",\n",
        "  \"Establishing an emergency fund should be a priority for all individuals. Ideally, you should aim to save at least three to six months' worth of living expenses in a high-interest savings account. This will provide a financial cushion in case of job loss or unexpected expenses.\",\n",
        "  \"U.S. Treasury yields have risen slightly as investors brace for potential interest rate increases by the Federal Reserve. Bond prices, which move inversely to yields, have fallen across the board. Experts recommend maintaining a diversified fixed-income portfolio to hedge against volatility.\",\n",
        "  \"The housing market continues to experience significant price appreciation, with home prices rising over 12% year-over-year in many major metropolitan areas. Low mortgage rates and high demand are contributing factors, though some analysts warn of a potential market correction.\",\n",
        "  \"Hedging strategies using options contracts have become increasingly popular among institutional investors looking to manage risk in a volatile market. By purchasing put options, investors can protect their portfolios from downside risks while retaining upside potential.\",\n",
        "  \"Environmental, social, and governance (ESG) criteria are becoming a key focus for investors looking to align their portfolios with sustainable practices. Funds that incorporate ESG metrics have seen a significant influx of capital, particularly in the renewable energy and technology sectors.\",\n",
        "  \"With inflation rates at a 40-year high, consumers are seeing increased costs for goods and services across the board. Central banks are expected to raise interest rates to curb inflation, though there are concerns that this could slow economic growth and increase unemployment.\",\n",
        "  \"Many pension funds are increasingly allocating a portion of their assets to alternative investments such as private equity, real estate, and hedge funds. This strategy is aimed at achieving higher returns in a low-interest-rate environment, though it may come with increased risk.\",\n",
        "  \"The U.S. dollar weakened against the euro today, reflecting growing concerns over the U.S. economy’s ability to sustain growth amid rising interest rates. Meanwhile, the yen gained as investors sought safe-haven assets during heightened geopolitical tensions.\",\n",
        "  \"Oil prices jumped 3% after OPEC announced it would continue its production cuts to stabilize the market. Increased global demand for energy, combined with supply chain bottlenecks, has driven crude oil prices to their highest levels in over a decade.\",\n",
        "  \"Amazon's acquisition of MGM Studios for $8.45 billion signals the tech giant’s growing interest in expanding its content library for Prime Video. The deal highlights the increasing competition among streaming services to secure exclusive content and attract new subscribers.\"\n",
        "  \"The new tax reform bill, which includes provisions for corporate tax cuts and increased deductions for small businesses, is expected to stimulate business investment. However, critics argue that it may disproportionately benefit large corporations while increasing the national deficit.\"\n",
        "]\n",
        "processed_texts = preprocess(texts)\n"
      ],
      "metadata": {
        "colab": {
          "base_uri": "https://localhost:8080/"
        },
        "id": "FupejSybZAe-",
        "outputId": "132b803f-e6bd-42b2-9302-2b070b0f9cad"
      },
      "execution_count": 5,
      "outputs": [
        {
          "output_type": "stream",
          "name": "stderr",
          "text": [
            "/usr/local/lib/python3.10/dist-packages/ipykernel/ipkernel.py:283: DeprecationWarning: `should_run_async` will not call `transform_cell` automatically in the future. Please pass the result to `transformed_cell` argument and any exception that happen during thetransform in `preprocessing_exc_tuple` in IPython 7.17 and above.\n",
            "  and should_run_async(code)\n",
            "[nltk_data] Downloading package punkt to /root/nltk_data...\n",
            "[nltk_data]   Unzipping tokenizers/punkt.zip.\n",
            "[nltk_data] Downloading package wordnet to /root/nltk_data...\n",
            "[nltk_data] Downloading package stopwords to /root/nltk_data...\n",
            "[nltk_data]   Unzipping corpora/stopwords.zip.\n"
          ]
        }
      ]
    },
    {
      "cell_type": "code",
      "source": [
        "# Create a dictionary and corpus needed for LDA\n",
        "dictionary = corpora.Dictionary(processed_texts)\n",
        "corpus = [dictionary.doc2bow(text) for text in processed_texts]"
      ],
      "metadata": {
        "colab": {
          "base_uri": "https://localhost:8080/"
        },
        "id": "hghtJXFEaPQK",
        "outputId": "771ef517-dc94-452c-b8b5-0f34d187faba"
      },
      "execution_count": 6,
      "outputs": [
        {
          "output_type": "stream",
          "name": "stderr",
          "text": [
            "/usr/local/lib/python3.10/dist-packages/ipykernel/ipkernel.py:283: DeprecationWarning: `should_run_async` will not call `transform_cell` automatically in the future. Please pass the result to `transformed_cell` argument and any exception that happen during thetransform in `preprocessing_exc_tuple` in IPython 7.17 and above.\n",
            "  and should_run_async(code)\n"
          ]
        }
      ]
    },
    {
      "cell_type": "code",
      "source": [
        "# Run LDA model\n",
        "lda_model = gensim.models.ldamodel.LdaModel(corpus, num_topics=3, id2word=dictionary, passes=10)\n",
        "\n",
        "# Print topics with words\n",
        "topics = lda_model.print_topics(num_words=4)\n",
        "for topic in topics:\n",
        "    print(topic)"
      ],
      "metadata": {
        "colab": {
          "base_uri": "https://localhost:8080/"
        },
        "id": "MBaUBZp7aamu",
        "outputId": "de972c02-054e-49e6-bfe7-6a1e76636888"
      },
      "execution_count": 7,
      "outputs": [
        {
          "output_type": "stream",
          "name": "stdout",
          "text": [
            "(0, '0.017*\"risk\" + 0.013*\"fund\" + 0.009*\"investor\" + 0.009*\"market\"')\n",
            "(1, '0.019*\"rate\" + 0.019*\"investor\" + 0.015*\"interest\" + 0.012*\"increased\"')\n",
            "(2, '0.016*\"market\" + 0.016*\"significant\" + 0.016*\"price\" + 0.016*\"esg\"')\n"
          ]
        },
        {
          "output_type": "stream",
          "name": "stderr",
          "text": [
            "/usr/local/lib/python3.10/dist-packages/ipykernel/ipkernel.py:283: DeprecationWarning: `should_run_async` will not call `transform_cell` automatically in the future. Please pass the result to `transformed_cell` argument and any exception that happen during thetransform in `preprocessing_exc_tuple` in IPython 7.17 and above.\n",
            "  and should_run_async(code)\n"
          ]
        }
      ]
    },
    {
      "cell_type": "code",
      "source": [
        "import pyLDAvis.gensim\n",
        "import pyLDAvis.gensim_models as gensimvis\n",
        "import pyLDAvis\n",
        "\n",
        "# Prepare the visualization\n",
        "pyLDAvis.enable_notebook()\n",
        "vis = gensimvis.prepare(lda_model, corpus, dictionary)\n",
        "vis\n"
      ],
      "metadata": {
        "colab": {
          "base_uri": "https://localhost:8080/",
          "height": 912
        },
        "id": "sll3UzQHaiKG",
        "outputId": "b55adaa3-0340-4f38-c844-87001542756e"
      },
      "execution_count": 10,
      "outputs": [
        {
          "output_type": "stream",
          "name": "stderr",
          "text": [
            "/usr/local/lib/python3.10/dist-packages/ipykernel/ipkernel.py:283: DeprecationWarning: `should_run_async` will not call `transform_cell` automatically in the future. Please pass the result to `transformed_cell` argument and any exception that happen during thetransform in `preprocessing_exc_tuple` in IPython 7.17 and above.\n",
            "  and should_run_async(code)\n"
          ]
        },
        {
          "output_type": "execute_result",
          "data": {
            "text/plain": [
              "PreparedData(topic_coordinates=              x         y  topics  cluster       Freq\n",
              "topic                                                \n",
              "1     -0.090614 -0.034351       1        1  46.935228\n",
              "0      0.096610 -0.028329       2        1  38.970793\n",
              "2     -0.005996  0.062680       3        1  14.093979, topic_info=            Term      Freq     Total Category  logprob  loglift\n",
              "131        price  3.000000  3.000000  Default  30.0000  30.0000\n",
              "68   significant  2.000000  2.000000  Default  29.0000  29.0000\n",
              "178          esg  1.000000  1.000000  Default  28.0000  28.0000\n",
              "42        market  3.000000  3.000000  Default  27.0000  27.0000\n",
              "18          rate  4.000000  4.000000  Default  26.0000  26.0000\n",
              "..           ...       ...       ...      ...      ...      ...\n",
              "130    potential  0.515859  2.240310   Topic3  -4.6990   0.4909\n",
              "176       energy  0.515690  1.614246   Topic3  -4.6993   0.8183\n",
              "149         many  0.515238  1.571487   Topic3  -4.7002   0.8443\n",
              "14         major  0.515199  2.283209   Topic3  -4.7002   0.4706\n",
              "75       analyst  0.514303  1.615292   Topic3  -4.7020   0.8150\n",
              "\n",
              "[157 rows x 6 columns], token_table=      Topic      Freq    Term\n",
              "term                         \n",
              "27        1  0.792134  across\n",
              "27        2  0.396067  across\n",
              "28        2  0.843092  adding\n",
              "172       3  1.057032   align\n",
              "155       2  0.552181   among\n",
              "...     ...       ...     ...\n",
              "153       3  0.446421  though\n",
              "26        1  1.053874   today\n",
              "154       3  1.056439    warn\n",
              "74        1  1.053382   would\n",
              "138       1  1.053156   yield\n",
              "\n",
              "[151 rows x 3 columns], R=30, lambda_step=0.01, plot_opts={'xlab': 'PC1', 'ylab': 'PC2'}, topic_order=[2, 1, 3])"
            ],
            "text/html": [
              "\n",
              "<link rel=\"stylesheet\" type=\"text/css\" href=\"https://cdn.jsdelivr.net/gh/bmabey/pyLDAvis@3.4.0/pyLDAvis/js/ldavis.v1.0.0.css\">\n",
              "\n",
              "\n",
              "<div id=\"ldavis_el18221399897228606728765182067\" style=\"background-color:white;\"></div>\n",
              "<script type=\"text/javascript\">\n",
              "\n",
              "var ldavis_el18221399897228606728765182067_data = {\"mdsDat\": {\"x\": [-0.09061439043989443, 0.09661045686272225, -0.005996066422827863], \"y\": [-0.034350847653800386, -0.028328716966083165, 0.06267956461988357], \"topics\": [1, 2, 3], \"cluster\": [1, 1, 1], \"Freq\": [46.93522829105727, 38.970793141386004, 14.09397856755672]}, \"tinfo\": {\"Term\": [\"price\", \"significant\", \"esg\", \"market\", \"rate\", \"risk\", \"fund\", \"high\", \"demand\", \"major\", \"looking\", \"many\", \"becoming\", \"seen\", \"metric\", \"key\", \"social\", \"align\", \"criterion\", \"particularly\", \"capital\", \"governance\", \"practice\", \"environmental\", \"influx\", \"incorporate\", \"sustainable\", \"focus\", \"renewable\", \"low\", \"inflation\", \"concern\", \"growth\", \"driven\", \"rate\", \"tesla\", \"board\", \"increase\", \"supply\", \"announced\", \"global\", \"would\", \"production\", \"chain\", \"oil\", \"yield\", \"record\", \"confidence\", \"company\", \"strong\", \"today\", \"continue\", \"high\", \"interest\", \"could\", \"curb\", \"cost\", \"central\", \"slow\", \"seeing\", \"investor\", \"price\", \"demand\", \"major\", \"increased\", \"financial\", \"across\", \"growing\", \"asset\", \"portfolio\", \"risk\", \"provide\", \"expense\", \"equity\", \"return\", \"among\", \"new\", \"tax\", \"business\", \"option\", \"real\", \"investment\", \"increasingly\", \"content\", \"may\", \"strategy\", \"fund\", \"mitigate\", \"stock\", \"improve\", \"downturn\", \"particular\", \"different\", \"international\", \"help\", \"diversifying\", \"domestic\", \"exposure\", \"adding\", \"loss\", \"hedge\", \"increasing\", \"asset\", \"market\", \"portfolio\", \"increased\", \"investor\", \"tech\", \"interest\", \"bond\", \"cut\", \"economic\", \"esg\", \"becoming\", \"seen\", \"metric\", \"key\", \"social\", \"align\", \"criterion\", \"particularly\", \"capital\", \"governance\", \"practice\", \"environmental\", \"influx\", \"incorporate\", \"focus\", \"sustainable\", \"renewable\", \"low\", \"warn\", \"contributing\", \"home\", \"continues\", \"metropolitan\", \"appreciation\", \"factor\", \"area\", \"correction\", \"experience\", \"mortgage\", \"significant\", \"market\", \"price\", \"technology\", \"looking\", \"sector\", \"investor\", \"fund\", \"portfolio\", \"though\", \"potential\", \"energy\", \"many\", \"major\", \"analyst\"], \"Freq\": [3.0, 2.0, 1.0, 3.0, 4.0, 3.0, 2.0, 2.0, 2.0, 2.0, 1.0, 1.0, 0.0, 0.0, 0.0, 0.0, 0.0, 0.0, 0.0, 0.0, 0.0, 0.0, 0.0, 0.0, 0.0, 0.0, 0.0, 0.0, 0.0, 0.0, 2.2223974779042157, 2.2216822910448375, 2.2203359122447015, 2.216521172310983, 3.562933008105358, 1.560965257783942, 1.5605936066272872, 1.5602718604013606, 1.5595148518042599, 1.5593472134101944, 1.5593083789394517, 1.5589400664929516, 1.5589377821123196, 1.5584274866234662, 1.5581821792879154, 1.5578551614143767, 1.5503425364023415, 1.5487886304078748, 1.547718485942614, 1.546202887254129, 1.5462742302184798, 1.538708713008736, 2.220477895287055, 2.8792484605279682, 0.8924470646650404, 0.8924447802844085, 0.8924443409804408, 0.892442408042983, 0.8924410022702864, 0.8924388936112416, 3.549273114812827, 2.2226879456876434, 1.560084014024782, 1.5447568743141238, 2.2316035318508516, 1.5624068776842701, 1.5619009752350934, 1.5606716270119465, 1.5620506900272777, 1.5591289671990527, 2.705995749237791, 1.4582442744624906, 1.457869594518555, 1.4571648810726012, 1.456950840777526, 1.456480302296532, 1.4562230745935887, 1.4559729961574883, 1.4558602128254547, 1.4559479007718352, 1.455873781842116, 1.455144556624129, 1.4554645227912049, 1.4546252864058788, 1.4544785075804896, 1.4541563528623394, 2.0789573366925396, 0.8340619210693182, 0.8340590759529215, 0.8340067695822435, 0.8340000580256154, 0.8339949514064419, 0.8339858324436319, 0.8339637280777805, 0.833958183748392, 0.8339499402060119, 0.8338926001678628, 0.8338712253190363, 0.8338306641724575, 0.833604878653283, 1.4598890435465974, 1.4587402001359475, 1.457876451978588, 1.46052518239222, 1.4588592573143941, 1.4558765540068102, 1.4721043684166044, 0.9191500876286214, 0.8519666033123102, 0.8365157974856271, 0.8350561798224136, 0.8341765281939137, 0.8996873418563202, 0.5140915918513986, 0.5140889535172815, 0.5140873705168111, 0.5140871066833993, 0.5140854181495643, 0.5140854181495643, 0.5140852598495173, 0.5140845738826467, 0.5140839406824587, 0.5140828853488117, 0.5140826215154, 0.5140821993819412, 0.5140814606483884, 0.5140795610478239, 0.514078505714177, 0.5140786640142241, 0.5140744954463189, 0.5133701657703755, 0.5132854752452116, 0.5132283816949141, 0.5130643828461854, 0.513058367444398, 0.513046600474235, 0.5130307177028491, 0.51302533550125, 0.5129920397246901, 0.5129782148539157, 0.5129622265491651, 0.5129492987119906, 0.9008680491404756, 0.9043716513148299, 0.8998428980358737, 0.5170502197304921, 0.5166222819366728, 0.5167381048044205, 0.5194868268211448, 0.5171419809910903, 0.517055549165409, 0.5165675628870808, 0.515859170176597, 0.5156895252928573, 0.5152378424919827, 0.515199217280506, 0.514302764114144], \"Total\": [3.0, 2.0, 1.0, 3.0, 4.0, 3.0, 2.0, 2.0, 2.0, 2.0, 1.0, 1.0, 0.0, 0.0, 0.0, 0.0, 0.0, 0.0, 0.0, 0.0, 0.0, 0.0, 0.0, 0.0, 0.0, 0.0, 0.0, 0.0, 0.0, 0.0, 2.567665030904581, 2.5674942550246715, 2.5677219007709673, 2.5669265412519056, 4.29388028375433, 1.8989055500412615, 1.899233010904237, 1.899207453460219, 1.8986413680115901, 1.8987001001302826, 1.8987648777992856, 1.8986460430028227, 1.8987035130823413, 1.8985124577713068, 1.8987130904810292, 1.8990532260168946, 1.89790893475833, 1.8976562435405622, 1.8977158135042056, 1.8974220063182015, 1.897760166964605, 1.8969057056539598, 2.953952671703564, 3.8617521188349255, 1.2298132487676259, 1.2298147752851967, 1.2298145893650931, 1.2298140870502958, 1.2298131556587957, 1.2298134987511156, 5.540864310050576, 3.339495498982415, 2.284990818555363, 2.2832094207003086, 3.8190534653018973, 2.5244658972064875, 2.5248253601674073, 2.524244784448655, 3.150293668274844, 3.535043773678856, 3.0626642993953954, 1.811806751406618, 1.811999423487034, 1.8115398792853024, 1.811503221723741, 1.8110005108551035, 1.8107738806236566, 1.810653035361262, 1.8106402548832228, 1.810880774156741, 1.8114535475393196, 1.810803727179736, 1.8112115735569598, 1.8101719047881764, 1.8107372144230292, 1.8107919313741163, 2.822436739128152, 1.1861949785499628, 1.1861948971324818, 1.186177638733612, 1.1861734857084019, 1.1861697988443485, 1.1861683703367993, 1.1861584098639193, 1.186154457220673, 1.1861542844954787, 1.1861335749024475, 1.1861267078788926, 1.1861095346605561, 1.1862536572903253, 2.4806980761798205, 2.479797072455034, 3.150293668274844, 3.2497880458496358, 3.535043773678856, 3.8190534653018973, 5.540864310050576, 1.848366501865076, 3.8617521188349255, 1.855460641722338, 1.8545305278393232, 1.8556162549095658, 1.3316773287740644, 0.9460412435457423, 0.9460431243230284, 0.9460441974020294, 0.9460442351048219, 0.9460454057740497, 0.9460454559636774, 0.9460456289924681, 0.94604611398011, 0.9460462720923797, 0.9460473860825788, 0.946047385317329, 0.9460469787093747, 0.9460483010163314, 0.9460494412885526, 0.9460498056338051, 0.946050259648398, 0.946053113054746, 0.9465342154822449, 0.9465760639048266, 0.9466152456291512, 0.9467213897525653, 0.9467366807426503, 0.9467399331445449, 0.9467461618821047, 0.9467530761066459, 0.946785600383383, 0.9467930939500885, 0.9467932679741724, 0.9468002363891688, 2.0001954927578818, 3.2497880458496358, 3.339495498982415, 1.6097885706549624, 1.5704993300459518, 1.609837511582064, 5.540864310050576, 2.822436739128152, 3.535043773678856, 2.2400370256477578, 2.2403095466369276, 1.6142457515253998, 1.5714872730614693, 2.2832094207003086, 1.6152921709499943], \"Category\": [\"Default\", \"Default\", \"Default\", \"Default\", \"Default\", \"Default\", \"Default\", \"Default\", \"Default\", \"Default\", \"Default\", \"Default\", \"Default\", \"Default\", \"Default\", \"Default\", \"Default\", \"Default\", \"Default\", \"Default\", \"Default\", \"Default\", \"Default\", \"Default\", \"Default\", \"Default\", \"Default\", \"Default\", \"Default\", \"Default\", \"Topic1\", \"Topic1\", \"Topic1\", \"Topic1\", \"Topic1\", \"Topic1\", \"Topic1\", \"Topic1\", \"Topic1\", \"Topic1\", \"Topic1\", \"Topic1\", \"Topic1\", \"Topic1\", \"Topic1\", \"Topic1\", \"Topic1\", \"Topic1\", \"Topic1\", \"Topic1\", \"Topic1\", \"Topic1\", \"Topic1\", \"Topic1\", \"Topic1\", \"Topic1\", \"Topic1\", \"Topic1\", \"Topic1\", \"Topic1\", \"Topic1\", \"Topic1\", \"Topic1\", \"Topic1\", \"Topic1\", \"Topic1\", \"Topic1\", \"Topic1\", \"Topic1\", \"Topic1\", \"Topic2\", \"Topic2\", \"Topic2\", \"Topic2\", \"Topic2\", \"Topic2\", \"Topic2\", \"Topic2\", \"Topic2\", \"Topic2\", \"Topic2\", \"Topic2\", \"Topic2\", \"Topic2\", \"Topic2\", \"Topic2\", \"Topic2\", \"Topic2\", \"Topic2\", \"Topic2\", \"Topic2\", \"Topic2\", \"Topic2\", \"Topic2\", \"Topic2\", \"Topic2\", \"Topic2\", \"Topic2\", \"Topic2\", \"Topic2\", \"Topic2\", \"Topic2\", \"Topic2\", \"Topic2\", \"Topic2\", \"Topic2\", \"Topic2\", \"Topic2\", \"Topic2\", \"Topic2\", \"Topic2\", \"Topic2\", \"Topic3\", \"Topic3\", \"Topic3\", \"Topic3\", \"Topic3\", \"Topic3\", \"Topic3\", \"Topic3\", \"Topic3\", \"Topic3\", \"Topic3\", \"Topic3\", \"Topic3\", \"Topic3\", \"Topic3\", \"Topic3\", \"Topic3\", \"Topic3\", \"Topic3\", \"Topic3\", \"Topic3\", \"Topic3\", \"Topic3\", \"Topic3\", \"Topic3\", \"Topic3\", \"Topic3\", \"Topic3\", \"Topic3\", \"Topic3\", \"Topic3\", \"Topic3\", \"Topic3\", \"Topic3\", \"Topic3\", \"Topic3\", \"Topic3\", \"Topic3\", \"Topic3\", \"Topic3\", \"Topic3\", \"Topic3\", \"Topic3\", \"Topic3\", \"Topic3\"], \"logprob\": [30.0, 29.0, 28.0, 27.0, 26.0, 25.0, 24.0, 23.0, 22.0, 21.0, 20.0, 19.0, 18.0, 17.0, 16.0, 15.0, 14.0, 13.0, 12.0, 11.0, 10.0, 9.0, 8.0, 7.0, 6.0, 5.0, 4.0, 3.0, 2.0, 1.0, -4.4415, -4.4418, -4.4424, -4.4441, -3.9695, -4.7947, -4.795, -4.7952, -4.7957, -4.7958, -4.7958, -4.796, -4.796, -4.7964, -4.7965, -4.7967, -4.8016, -4.8026, -4.8033, -4.8042, -4.8042, -4.8091, -4.4423, -4.1825, -5.3538, -5.3538, -5.3538, -5.3538, -5.3538, -5.3538, -3.9733, -4.4413, -4.7953, -4.8052, -4.4373, -4.7938, -4.7941, -4.7949, -4.7941, -4.7959, -4.0586, -4.6769, -4.6771, -4.6776, -4.6777, -4.6781, -4.6782, -4.6784, -4.6785, -4.6784, -4.6785, -4.679, -4.6788, -4.6793, -4.6794, -4.6797, -4.3222, -5.2355, -5.2355, -5.2356, -5.2356, -5.2356, -5.2356, -5.2357, -5.2357, -5.2357, -5.2357, -5.2358, -5.2358, -5.2361, -4.6757, -4.6765, -4.6771, -4.6753, -4.6764, -4.6785, -4.6674, -5.1384, -5.2143, -5.2326, -5.2344, -5.2354, -4.1427, -4.7024, -4.7024, -4.7024, -4.7024, -4.7024, -4.7024, -4.7024, -4.7024, -4.7024, -4.7024, -4.7024, -4.7024, -4.7024, -4.7024, -4.7024, -4.7024, -4.7024, -4.7038, -4.704, -4.7041, -4.7044, -4.7044, -4.7044, -4.7044, -4.7045, -4.7045, -4.7046, -4.7046, -4.7046, -4.1414, -4.1375, -4.1426, -4.6966, -4.6975, -4.6972, -4.6919, -4.6965, -4.6966, -4.6976, -4.699, -4.6993, -4.7002, -4.7002, -4.702], \"loglift\": [30.0, 29.0, 28.0, 27.0, 26.0, 25.0, 24.0, 23.0, 22.0, 21.0, 20.0, 19.0, 18.0, 17.0, 16.0, 15.0, 14.0, 13.0, 12.0, 11.0, 10.0, 9.0, 8.0, 7.0, 6.0, 5.0, 4.0, 3.0, 2.0, 1.0, 0.612, 0.6117, 0.611, 0.6096, 0.5698, 0.5604, 0.56, 0.5598, 0.5596, 0.5595, 0.5594, 0.5593, 0.5592, 0.559, 0.5587, 0.5584, 0.5541, 0.5533, 0.5525, 0.5517, 0.5516, 0.5471, 0.471, 0.4628, 0.4358, 0.4357, 0.4357, 0.4357, 0.4357, 0.4357, 0.311, 0.3493, 0.3748, 0.3657, 0.2191, 0.2766, 0.2761, 0.2756, 0.0549, -0.0622, 0.8185, 0.7253, 0.7249, 0.7247, 0.7245, 0.7245, 0.7244, 0.7243, 0.7243, 0.7242, 0.7238, 0.7237, 0.7237, 0.7237, 0.7233, 0.723, 0.6366, 0.5902, 0.5902, 0.5901, 0.5901, 0.5901, 0.5901, 0.5901, 0.5901, 0.5901, 0.59, 0.59, 0.59, 0.5896, 0.4122, 0.4118, 0.1718, 0.1426, 0.0573, -0.022, -0.3831, 0.2437, -0.569, 0.1457, 0.1445, 0.1428, 1.5673, 1.3495, 1.3495, 1.3495, 1.3495, 1.3495, 1.3495, 1.3495, 1.3495, 1.3495, 1.3495, 1.3495, 1.3495, 1.3495, 1.3495, 1.3495, 1.3495, 1.3495, 1.3476, 1.3474, 1.3473, 1.3468, 1.3468, 1.3468, 1.3467, 1.3467, 1.3466, 1.3466, 1.3465, 1.3465, 1.1618, 0.6803, 0.6481, 0.8237, 0.8476, 0.8231, -0.4076, 0.2624, 0.0371, 0.4924, 0.4909, 0.8183, 0.8443, 0.4706, 0.815]}, \"token.table\": {\"Topic\": [1, 2, 2, 3, 2, 1, 3, 1, 3, 3, 1, 2, 3, 1, 1, 2, 2, 3, 1, 1, 1, 1, 1, 2, 1, 3, 3, 3, 1, 1, 3, 1, 1, 2, 1, 3, 2, 2, 2, 2, 1, 1, 2, 1, 3, 3, 2, 3, 2, 3, 2, 3, 1, 2, 3, 2, 3, 1, 3, 1, 2, 1, 1, 2, 2, 1, 3, 3, 2, 3, 1, 1, 2, 1, 2, 2, 1, 3, 1, 2, 2, 2, 1, 2, 3, 3, 2, 3, 2, 3, 1, 3, 2, 3, 1, 2, 3, 2, 3, 3, 2, 3, 2, 1, 2, 2, 3, 1, 2, 3, 1, 2, 3, 3, 1, 3, 1, 2, 1, 3, 2, 1, 3, 2, 2, 1, 3, 1, 3, 1, 3, 1, 3, 2, 2, 1, 1, 3, 2, 1, 2, 1, 3, 1, 1, 2, 3, 1, 3, 1, 1], \"Freq\": [0.7921339953062698, 0.3960669976531349, 0.8430924554418852, 1.0570316613183903, 0.5521809596441406, 0.6190830476271513, 0.6190830476271513, 1.0533522381247922, 1.0562493308787524, 1.0562053326487737, 0.6348614480424726, 0.3174307240212363, 1.0570363679410228, 1.0530566752563906, 0.5389497235962636, 0.5389497235962636, 0.5522908249184457, 1.0570307494455746, 0.8131310338121887, 1.053456347791276, 1.05389857942266, 0.7789696105788488, 1.05393166270646, 0.5524337204410531, 1.0543486658502608, 1.0562599087378428, 1.0563954094520922, 1.0561969731189405, 0.8131307016907827, 0.8131315880700443, 1.057031467990601, 0.8131305787638613, 0.5392200263023333, 0.5392200263023333, 0.8752770399595993, 0.43763851997979963, 0.8430506368299646, 0.8430606482404961, 0.8430753678667633, 0.8430470011751982, 0.7791418912301978, 0.5389045269215619, 0.5389045269215619, 0.6194843623128874, 0.6194843623128874, 1.0570299599330992, 0.5520165531186235, 0.7509326609326563, 0.5518765552781401, 1.0561967789860531, 0.8430802488110767, 1.0562416169930207, 0.7922467886031462, 0.3961233943015731, 1.057026801384998, 0.7086075561140116, 0.3543037780570058, 1.0533163022891219, 1.057029504770189, 0.792316185942656, 0.396158092971328, 0.7789005497049712, 0.4031123374513844, 0.4031123374513844, 0.843060525475865, 0.677058918092478, 0.338529459046239, 1.05627696894158, 0.8430440495132085, 1.057027208470167, 1.053070846134341, 0.5236899713950193, 0.26184498569750964, 0.4032588033544156, 0.4032588033544156, 0.5521166133209625, 0.7789178011648217, 1.0570284825052894, 0.7768494475261886, 0.25894981584206284, 0.8430577161398906, 0.5522409662572682, 0.7219090337123756, 0.1804772584280939, 0.1804772584280939, 1.0570330254052018, 0.6367401633789558, 0.6367401633789558, 0.8429900248183249, 1.0564858445085528, 0.8759599456218772, 0.4379799728109386, 0.636339865515974, 0.636339865515974, 0.3077123756661972, 0.3077123756661972, 0.3077123756661972, 0.5522612514034173, 1.0570330675312432, 1.0562562800943178, 0.8430317258823902, 1.0561890054165177, 0.5522500687140383, 1.053345031446173, 0.5522174702338769, 0.8430496215417654, 1.0570309261066575, 0.5657638569829183, 0.28288192849145916, 0.28288192849145916, 0.44636688778171935, 0.44636688778171935, 0.44636688778171935, 1.0570295056252113, 0.5988928569029138, 0.2994464284514569, 1.0533503447061172, 0.5519352432171024, 0.9315583424935692, 0.2328895856233923, 0.5520428615784274, 1.0537913402334396, 1.0570231059977837, 0.552027723720219, 0.9795392856449314, 0.6211807047639561, 0.6211807047639561, 0.8131314227852493, 1.0570342665040584, 0.49995113158723997, 0.49995113158723997, 0.8131316496320227, 1.057031717396064, 0.8430317837460007, 0.5522445636485422, 1.0540617708344402, 1.0533848222713913, 1.0570262941121675, 0.5522869265786637, 0.5410182444828772, 0.5410182444828772, 0.6211995899518268, 0.6211995899518268, 1.0532382718858986, 0.4464211923956155, 0.4464211923956155, 0.4464211923956155, 1.0538739482549704, 1.056439136940341, 1.0533822285468648, 1.0531563689738348], \"Term\": [\"across\", \"across\", \"adding\", \"align\", \"among\", \"analyst\", \"analyst\", \"announced\", \"appreciation\", \"area\", \"asset\", \"asset\", \"becoming\", \"board\", \"bond\", \"bond\", \"business\", \"capital\", \"central\", \"chain\", \"company\", \"concern\", \"confidence\", \"content\", \"continue\", \"continues\", \"contributing\", \"correction\", \"cost\", \"could\", \"criterion\", \"curb\", \"cut\", \"cut\", \"demand\", \"demand\", \"different\", \"diversifying\", \"domestic\", \"downturn\", \"driven\", \"economic\", \"economic\", \"energy\", \"energy\", \"environmental\", \"equity\", \"esg\", \"expense\", \"experience\", \"exposure\", \"factor\", \"financial\", \"financial\", \"focus\", \"fund\", \"fund\", \"global\", \"governance\", \"growing\", \"growing\", \"growth\", \"hedge\", \"hedge\", \"help\", \"high\", \"high\", \"home\", \"improve\", \"incorporate\", \"increase\", \"increased\", \"increased\", \"increasing\", \"increasing\", \"increasingly\", \"inflation\", \"influx\", \"interest\", \"interest\", \"international\", \"investment\", \"investor\", \"investor\", \"investor\", \"key\", \"looking\", \"looking\", \"loss\", \"low\", \"major\", \"major\", \"many\", \"many\", \"market\", \"market\", \"market\", \"may\", \"metric\", \"metropolitan\", \"mitigate\", \"mortgage\", \"new\", \"oil\", \"option\", \"particular\", \"particularly\", \"portfolio\", \"portfolio\", \"portfolio\", \"potential\", \"potential\", \"potential\", \"practice\", \"price\", \"price\", \"production\", \"provide\", \"rate\", \"rate\", \"real\", \"record\", \"renewable\", \"return\", \"risk\", \"sector\", \"sector\", \"seeing\", \"seen\", \"significant\", \"significant\", \"slow\", \"social\", \"stock\", \"strategy\", \"strong\", \"supply\", \"sustainable\", \"tax\", \"tech\", \"tech\", \"technology\", \"technology\", \"tesla\", \"though\", \"though\", \"though\", \"today\", \"warn\", \"would\", \"yield\"]}, \"R\": 30, \"lambda.step\": 0.01, \"plot.opts\": {\"xlab\": \"PC1\", \"ylab\": \"PC2\"}, \"topic.order\": [2, 1, 3]};\n",
              "\n",
              "function LDAvis_load_lib(url, callback){\n",
              "  var s = document.createElement('script');\n",
              "  s.src = url;\n",
              "  s.async = true;\n",
              "  s.onreadystatechange = s.onload = callback;\n",
              "  s.onerror = function(){console.warn(\"failed to load library \" + url);};\n",
              "  document.getElementsByTagName(\"head\")[0].appendChild(s);\n",
              "}\n",
              "\n",
              "if(typeof(LDAvis) !== \"undefined\"){\n",
              "   // already loaded: just create the visualization\n",
              "   !function(LDAvis){\n",
              "       new LDAvis(\"#\" + \"ldavis_el18221399897228606728765182067\", ldavis_el18221399897228606728765182067_data);\n",
              "   }(LDAvis);\n",
              "}else if(typeof define === \"function\" && define.amd){\n",
              "   // require.js is available: use it to load d3/LDAvis\n",
              "   require.config({paths: {d3: \"https://d3js.org/d3.v5\"}});\n",
              "   require([\"d3\"], function(d3){\n",
              "      window.d3 = d3;\n",
              "      LDAvis_load_lib(\"https://cdn.jsdelivr.net/gh/bmabey/pyLDAvis@3.4.0/pyLDAvis/js/ldavis.v3.0.0.js\", function(){\n",
              "        new LDAvis(\"#\" + \"ldavis_el18221399897228606728765182067\", ldavis_el18221399897228606728765182067_data);\n",
              "      });\n",
              "    });\n",
              "}else{\n",
              "    // require.js not available: dynamically load d3 & LDAvis\n",
              "    LDAvis_load_lib(\"https://d3js.org/d3.v5.js\", function(){\n",
              "         LDAvis_load_lib(\"https://cdn.jsdelivr.net/gh/bmabey/pyLDAvis@3.4.0/pyLDAvis/js/ldavis.v3.0.0.js\", function(){\n",
              "                 new LDAvis(\"#\" + \"ldavis_el18221399897228606728765182067\", ldavis_el18221399897228606728765182067_data);\n",
              "            })\n",
              "         });\n",
              "}\n",
              "</script>"
            ]
          },
          "metadata": {},
          "execution_count": 10
        }
      ]
    }
  ]
}